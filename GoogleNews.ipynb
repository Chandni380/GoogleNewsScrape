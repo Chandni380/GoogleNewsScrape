{
 "cells": [
  {
   "cell_type": "code",
   "execution_count": 1,
   "id": "1a78145e",
   "metadata": {},
   "outputs": [
    {
     "name": "stdout",
     "output_type": "stream",
     "text": [
      "Collecting GoogleNews\n",
      "  Downloading GoogleNews-1.6.5-py3-none-any.whl (8.0 kB)\n",
      "Collecting dateparser\n",
      "  Downloading dateparser-1.1.1-py2.py3-none-any.whl (288 kB)\n",
      "Requirement already satisfied: python-dateutil in c:\\users\\jansa\\anaconda3\\lib\\site-packages (from GoogleNews) (2.8.2)\n",
      "Requirement already satisfied: beautifulsoup4 in c:\\users\\jansa\\anaconda3\\lib\\site-packages (from GoogleNews) (4.10.0)\n",
      "Requirement already satisfied: soupsieve>1.2 in c:\\users\\jansa\\anaconda3\\lib\\site-packages (from beautifulsoup4->GoogleNews) (2.2.1)\n",
      "Collecting tzlocal\n",
      "  Downloading tzlocal-4.2-py3-none-any.whl (19 kB)\n",
      "Requirement already satisfied: pytz in c:\\users\\jansa\\anaconda3\\lib\\site-packages (from dateparser->GoogleNews) (2021.3)\n",
      "Requirement already satisfied: regex!=2019.02.19,!=2021.8.27,<2022.3.15 in c:\\users\\jansa\\anaconda3\\lib\\site-packages (from dateparser->GoogleNews) (2021.8.3)\n",
      "Requirement already satisfied: six>=1.5 in c:\\users\\jansa\\anaconda3\\lib\\site-packages (from python-dateutil->GoogleNews) (1.16.0)\n",
      "Collecting tzdata\n",
      "  Downloading tzdata-2022.2-py2.py3-none-any.whl (336 kB)\n",
      "Collecting pytz-deprecation-shim\n",
      "  Downloading pytz_deprecation_shim-0.1.0.post0-py2.py3-none-any.whl (15 kB)\n",
      "Installing collected packages: tzdata, pytz-deprecation-shim, tzlocal, dateparser, GoogleNews\n",
      "Successfully installed GoogleNews-1.6.5 dateparser-1.1.1 pytz-deprecation-shim-0.1.0.post0 tzdata-2022.2 tzlocal-4.2\n",
      "Note: you may need to restart the kernel to use updated packages.\n"
     ]
    }
   ],
   "source": [
    "pip install GoogleNews"
   ]
  },
  {
   "cell_type": "code",
   "execution_count": 8,
   "id": "ee7ed9c7",
   "metadata": {},
   "outputs": [
    {
     "name": "stdout",
     "output_type": "stream",
     "text": [
      "HTTP Error 429: Too Many Requests\n",
      "HTTP Error 429: Too Many Requests\n",
      "HTTP Error 429: Too Many Requests\n",
      "HTTP Error 429: Too Many Requests\n"
     ]
    }
   ],
   "source": [
    "from GoogleNews import GoogleNews\n",
    "from urllib.request import Request, urlopen\n",
    "from bs4 import BeautifulSoup\n",
    "import requests\n",
    "import html5lib\n",
    "import pandas as pd\n",
    "\n",
    "googlenews = GoogleNews()\n",
    "googlenews = GoogleNews(lang = 'en', region = \"CA\", period = \"1y\")\n",
    "googlenews.set_encode('utf-8')\n",
    "googlenews.search('sensory friendly museums canada')\n",
    "\n",
    "\n",
    "#googlenews.set_encode('utf-8')\n",
    "\n",
    "for i in range (2, 5):\n",
    "    googlenews.getpage(i)\n",
    "    records = googlenews.result()\n",
    "#title = googlenews.gettext()\n",
    "    df = pd.DataFrame(records, columns = ['title', 'link','datetime'])\n",
    "df.head()\n",
    "df.to_csv('canadadata10.csv', date_format='%Y-%m-%d')\n",
    "    \n"
   ]
  },
  {
   "cell_type": "code",
   "execution_count": 9,
   "id": "3b9c90af",
   "metadata": {},
   "outputs": [
    {
     "data": {
      "text/plain": [
       "2"
      ]
     },
     "execution_count": 9,
     "metadata": {},
     "output_type": "execute_result"
    }
   ],
   "source": [
    "googlenews.total_count()"
   ]
  },
  {
   "cell_type": "code",
   "execution_count": 54,
   "id": "da2ba747",
   "metadata": {},
   "outputs": [],
   "source": []
  },
  {
   "cell_type": "code",
   "execution_count": null,
   "id": "f4cf01d4",
   "metadata": {},
   "outputs": [],
   "source": []
  },
  {
   "cell_type": "code",
   "execution_count": null,
   "id": "4bb5b41c",
   "metadata": {},
   "outputs": [],
   "source": []
  }
 ],
 "metadata": {
  "kernelspec": {
   "display_name": "Python 3 (ipykernel)",
   "language": "python",
   "name": "python3"
  },
  "language_info": {
   "codemirror_mode": {
    "name": "ipython",
    "version": 3
   },
   "file_extension": ".py",
   "mimetype": "text/x-python",
   "name": "python",
   "nbconvert_exporter": "python",
   "pygments_lexer": "ipython3",
   "version": "3.9.7"
  }
 },
 "nbformat": 4,
 "nbformat_minor": 5
}
